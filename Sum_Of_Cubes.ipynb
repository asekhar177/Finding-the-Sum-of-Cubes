{
 "cells": [
  {
   "cell_type": "markdown",
   "metadata": {},
   "source": [
    "# Finding the Sum of Cubed Numbers"
   ]
  },
  {
   "cell_type": "markdown",
   "metadata": {},
   "source": [
    "I was reading an article in ScienceAlert (link: https://www.sciencealert.com/mathematicians-solve-a-long-standing-42-problem-using-planetary-supercomputer) and was inspired by the revelation of the number 42 having three numbers being cubed. The surely were not straightforward numbers, but the whole thought behind it was kind of inspiring. "
   ]
  },
  {
   "cell_type": "code",
   "execution_count": 18,
   "metadata": {},
   "outputs": [
    {
     "name": "stdout",
     "output_type": "stream",
     "text": [
      "What is the x-value you are inputting?-80538738812075974\n",
      "What is the y-value you are inputting?+80435758145817515\n",
      "What is the z-value you are inputting?+12602123297335631\n",
      "The result of the cubic sum is: 42\n"
     ]
    }
   ],
   "source": [
    "x = int(input(\"What is the x-value you are inputting?\"))\n",
    "y = int(input(\"What is the y-value you are inputting?\"))\n",
    "z = int(input(\"What is the z-value you are inputting?\"))\n",
    "k = (x**3)+(y**3)+(z**3)\n",
    "print(\"The result of the cubic sum is:\",k)"
   ]
  },
  {
   "cell_type": "markdown",
   "metadata": {},
   "source": [
    "***They found magic in these 3 numbers:***\n",
    "\n",
    "-80538738812075974, +80435758145817515 and +12602123297335631 "
   ]
  },
  {
   "cell_type": "markdown",
   "metadata": {},
   "source": [
    "***So the full equation can be viewed visually as follows:***\n",
    "\n",
    "k = (-80538738812075974)^3 + (80435758145817515)^3 + (12602123297335631)^3 = 42"
   ]
  },
  {
   "cell_type": "markdown",
   "metadata": {},
   "source": [
    "In case of the people who are typically uninterested in Mathematics, the key behind this whole inspiration for Mathematicians around the world was that in 1954, they wanted to determine the x,y,z for every natural number such that, when you cube x,y,z you can get a natural number. Completing 42 was significant because, it now completes the numbers from 1 to 100. The focus now goes up by a notch: 1 to 1000. Right now we still need the cubic sums of 114, 165, 390, 579, 627, 633, 732, 906, 921 and 975."
   ]
  },
  {
   "cell_type": "markdown",
   "metadata": {},
   "source": [
    "If anyone has a supercomputer, hit me up! :)"
   ]
  },
  {
   "cell_type": "code",
   "execution_count": null,
   "metadata": {},
   "outputs": [],
   "source": []
  }
 ],
 "metadata": {
  "kernelspec": {
   "display_name": "Python 3",
   "language": "python",
   "name": "python3"
  },
  "language_info": {
   "codemirror_mode": {
    "name": "ipython",
    "version": 3
   },
   "file_extension": ".py",
   "mimetype": "text/x-python",
   "name": "python",
   "nbconvert_exporter": "python",
   "pygments_lexer": "ipython3",
   "version": "3.7.4"
  }
 },
 "nbformat": 4,
 "nbformat_minor": 2
}
